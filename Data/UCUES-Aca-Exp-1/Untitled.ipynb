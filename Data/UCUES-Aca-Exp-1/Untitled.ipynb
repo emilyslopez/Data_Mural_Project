{
 "cells": [
  {
   "cell_type": "code",
   "execution_count": 8,
   "id": "e9e260ce",
   "metadata": {},
   "outputs": [],
   "source": [
    "import pandas as pd\n",
    "import matplotlib.pyplot as plt"
   ]
  },
  {
   "cell_type": "code",
   "execution_count": 2,
   "id": "7adecc82",
   "metadata": {},
   "outputs": [
    {
     "data": {
      "text/html": [
       "<div>\n",
       "<style scoped>\n",
       "    .dataframe tbody tr th:only-of-type {\n",
       "        vertical-align: middle;\n",
       "    }\n",
       "\n",
       "    .dataframe tbody tr th {\n",
       "        vertical-align: top;\n",
       "    }\n",
       "\n",
       "    .dataframe thead th {\n",
       "        text-align: right;\n",
       "    }\n",
       "</style>\n",
       "<table border=\"1\" class=\"dataframe\">\n",
       "  <thead>\n",
       "    <tr style=\"text-align: right;\">\n",
       "      <th></th>\n",
       "      <th>Label1</th>\n",
       "      <th>Pivot Field Values</th>\n",
       "      <th>Calculation1</th>\n",
       "      <th>Total</th>\n",
       "    </tr>\n",
       "  </thead>\n",
       "  <tbody>\n",
       "    <tr>\n",
       "      <th>0</th>\n",
       "      <td>Physical illness or condition</td>\n",
       "      <td>5</td>\n",
       "      <td>2%</td>\n",
       "      <td>1</td>\n",
       "    </tr>\n",
       "    <tr>\n",
       "      <th>1</th>\n",
       "      <td>Inability to concentrate on my work</td>\n",
       "      <td>5</td>\n",
       "      <td>7%</td>\n",
       "      <td>4</td>\n",
       "    </tr>\n",
       "    <tr>\n",
       "      <th>2</th>\n",
       "      <td>Feeling depressed, stressed, or upset</td>\n",
       "      <td>5</td>\n",
       "      <td>15%</td>\n",
       "      <td>8</td>\n",
       "    </tr>\n",
       "    <tr>\n",
       "      <th>3</th>\n",
       "      <td>Physical illness or condition</td>\n",
       "      <td>4</td>\n",
       "      <td>2%</td>\n",
       "      <td>1</td>\n",
       "    </tr>\n",
       "    <tr>\n",
       "      <th>4</th>\n",
       "      <td>Inability to concentrate on my work</td>\n",
       "      <td>4</td>\n",
       "      <td>27%</td>\n",
       "      <td>15</td>\n",
       "    </tr>\n",
       "    <tr>\n",
       "      <th>5</th>\n",
       "      <td>Feeling depressed, stressed, or upset</td>\n",
       "      <td>4</td>\n",
       "      <td>25%</td>\n",
       "      <td>14</td>\n",
       "    </tr>\n",
       "    <tr>\n",
       "      <th>6</th>\n",
       "      <td>Physical illness or condition</td>\n",
       "      <td>3</td>\n",
       "      <td>16%</td>\n",
       "      <td>9</td>\n",
       "    </tr>\n",
       "    <tr>\n",
       "      <th>7</th>\n",
       "      <td>Inability to concentrate on my work</td>\n",
       "      <td>3</td>\n",
       "      <td>29%</td>\n",
       "      <td>16</td>\n",
       "    </tr>\n",
       "    <tr>\n",
       "      <th>8</th>\n",
       "      <td>Feeling depressed, stressed, or upset</td>\n",
       "      <td>3</td>\n",
       "      <td>38%</td>\n",
       "      <td>21</td>\n",
       "    </tr>\n",
       "    <tr>\n",
       "      <th>9</th>\n",
       "      <td>Physical illness or condition</td>\n",
       "      <td>2</td>\n",
       "      <td>24%</td>\n",
       "      <td>13</td>\n",
       "    </tr>\n",
       "    <tr>\n",
       "      <th>10</th>\n",
       "      <td>Inability to concentrate on my work</td>\n",
       "      <td>2</td>\n",
       "      <td>18%</td>\n",
       "      <td>10</td>\n",
       "    </tr>\n",
       "    <tr>\n",
       "      <th>11</th>\n",
       "      <td>Feeling depressed, stressed, or upset</td>\n",
       "      <td>2</td>\n",
       "      <td>16%</td>\n",
       "      <td>9</td>\n",
       "    </tr>\n",
       "    <tr>\n",
       "      <th>12</th>\n",
       "      <td>Physical illness or condition</td>\n",
       "      <td>1</td>\n",
       "      <td>56%</td>\n",
       "      <td>31</td>\n",
       "    </tr>\n",
       "    <tr>\n",
       "      <th>13</th>\n",
       "      <td>Inability to concentrate on my work</td>\n",
       "      <td>1</td>\n",
       "      <td>18%</td>\n",
       "      <td>10</td>\n",
       "    </tr>\n",
       "    <tr>\n",
       "      <th>14</th>\n",
       "      <td>Feeling depressed, stressed, or upset</td>\n",
       "      <td>1</td>\n",
       "      <td>5%</td>\n",
       "      <td>3</td>\n",
       "    </tr>\n",
       "  </tbody>\n",
       "</table>\n",
       "</div>"
      ],
      "text/plain": [
       "                                   Label1  Pivot Field Values Calculation1  \\\n",
       "0           Physical illness or condition                   5           2%   \n",
       "1     Inability to concentrate on my work                   5           7%   \n",
       "2   Feeling depressed, stressed, or upset                   5          15%   \n",
       "3           Physical illness or condition                   4           2%   \n",
       "4     Inability to concentrate on my work                   4          27%   \n",
       "5   Feeling depressed, stressed, or upset                   4          25%   \n",
       "6           Physical illness or condition                   3          16%   \n",
       "7     Inability to concentrate on my work                   3          29%   \n",
       "8   Feeling depressed, stressed, or upset                   3          38%   \n",
       "9           Physical illness or condition                   2          24%   \n",
       "10    Inability to concentrate on my work                   2          18%   \n",
       "11  Feeling depressed, stressed, or upset                   2          16%   \n",
       "12          Physical illness or condition                   1          56%   \n",
       "13    Inability to concentrate on my work                   1          18%   \n",
       "14  Feeling depressed, stressed, or upset                   1           5%   \n",
       "\n",
       "    Total  \n",
       "0       1  \n",
       "1       4  \n",
       "2       8  \n",
       "3       1  \n",
       "4      15  \n",
       "5      14  \n",
       "6       9  \n",
       "7      16  \n",
       "8      21  \n",
       "9      13  \n",
       "10     10  \n",
       "11      9  \n",
       "12     31  \n",
       "13     10  \n",
       "14      3  "
      ]
     },
     "execution_count": 2,
     "metadata": {},
     "output_type": "execute_result"
    }
   ],
   "source": [
    "aca = pd.read_csv(\"aca_exp_arts.csv\")\n",
    "aca"
   ]
  },
  {
   "cell_type": "code",
   "execution_count": 11,
   "id": "da0f5dae",
   "metadata": {},
   "outputs": [
    {
     "data": {
      "text/plain": [
       "[<matplotlib.lines.Line2D at 0x7fc978361730>]"
      ]
     },
     "execution_count": 11,
     "metadata": {},
     "output_type": "execute_result"
    },
    {
     "data": {
      "image/png": "[encoded data removed]",
      "text/plain": [
       "<Figure size 432x288 with 1 Axes>"
      ]
     },
     "metadata": {
      "needs_background": "light"
     },
     "output_type": "display_data"
    }
   ],
   "source": [
    "plt.plot(aca[\"Label1\"])"
   ]
  },
  {
   "cell_type": "code",
   "execution_count": null,
   "id": "637315ab",
   "metadata": {},
   "outputs": [],
   "source": []
  }
 ],
 "metadata": {
  "kernelspec": {
   "display_name": "Python 3 (ipykernel)",
   "language": "python",
   "name": "python3"
  },
  "language_info": {
   "codemirror_mode": {
    "name": "ipython",
    "version": 3
   },
   "file_extension": ".py",
   "mimetype": "text/x-python",
   "name": "python",
   "nbconvert_exporter": "python",
   "pygments_lexer": "ipython3",
   "version": "3.9.7"
  }
 },
 "nbformat": 4,
 "nbformat_minor": 5
}
