{
 "cells": [
  {
   "cell_type": "code",
   "execution_count": 1,
   "id": "8188e274",
   "metadata": {},
   "outputs": [],
   "source": [
    "import pandas as pd\n",
    "import numpy as np"
   ]
  },
  {
   "cell_type": "code",
   "execution_count": 2,
   "id": "636a2130",
   "metadata": {},
   "outputs": [],
   "source": [
    "#can run this if working in the same folder as the data\n",
    "def read_data(survey_section, discipline, dataset):\n",
    "    ''' Loads UCUES datasets present in the Data Mural Project GitHub Data Folder and returns the dataset as a pandas\n",
    "    dataframe\n",
    "    \n",
    "    Params:\n",
    "        survey_section  str, Shortened section name, ex: Satis \n",
    "        discipline    str, Shortened discipline name, ex: Hum\n",
    "        dataset    int, the sub-dataset from the specified survey section \n",
    "    '''\n",
    "    #Creates the path for where the file is located in the local environment\n",
    "    file_path = \"{}_data_{}_{}.csv\".format(survey_section, discipline, dataset)\n",
    "    DF = pd.read_csv(file_path, encoding='utf-16le', sep = '\\t')\n",
    "    return DF"
   ]
  },
  {
   "cell_type": "code",
   "execution_count": 3,
   "id": "364559ea",
   "metadata": {},
   "outputs": [],
   "source": [
    "def read_data_from_file_path(file_path, UCUES_dataset, survey_section, discipline, dataset):\n",
    "    ''' Loads UCUES datasets present in the Data Mural Project GitHub Data Folder and returns the dataset as a pandas\n",
    "    dataframe\n",
    "    \n",
    "    Params:\n",
    "        file_path     str, file_path to the dataset on your local environment, ex: /Users/omarramos/Documents/Data_Mural_Project/Data\n",
    "        UCUES_dataset   str, name of the UCUES survey section and sub-dataset number, ex: Satisfaction-1\n",
    "        survey_section  str, Shortened section name, ex: Satis \n",
    "        discipline    str, Shortened discipline name, ex: Hum\n",
    "        dataset    int, the sub-dataset from the specified survey section \n",
    "    '''\n",
    "    #Creates the path for where the file is located in the local environment\n",
    "    file_path = \"{}/Data/UCUES-{}/{}_data_{}_{}.csv\".format(file_path, UCUES_dataset,survey_section, discipline, dataset)\n",
    "    DF = pd.read_csv(file_path, encoding='utf-16le', sep = '\\t')\n",
    "    return DF"
   ]
  },
  {
   "cell_type": "code",
   "execution_count": 4,
   "id": "7f85147f",
   "metadata": {},
   "outputs": [
    {
     "data": {
      "text/html": [
       "<div>\n",
       "<style scoped>\n",
       "    .dataframe tbody tr th:only-of-type {\n",
       "        vertical-align: middle;\n",
       "    }\n",
       "\n",
       "    .dataframe tbody tr th {\n",
       "        vertical-align: top;\n",
       "    }\n",
       "\n",
       "    .dataframe thead th {\n",
       "        text-align: right;\n",
       "    }\n",
       "</style>\n",
       "<table border=\"1\" class=\"dataframe\">\n",
       "  <thead>\n",
       "    <tr style=\"text-align: right;\">\n",
       "      <th></th>\n",
       "      <th>Label1</th>\n",
       "      <th>Pivot Field Values</th>\n",
       "      <th>Calculation1</th>\n",
       "      <th>Total</th>\n",
       "    </tr>\n",
       "  </thead>\n",
       "  <tbody>\n",
       "    <tr>\n",
       "      <th>0</th>\n",
       "      <td>Top campus administrators are genuinely commit...</td>\n",
       "      <td>6</td>\n",
       "      <td>17%</td>\n",
       "      <td>27</td>\n",
       "    </tr>\n",
       "    <tr>\n",
       "      <th>1</th>\n",
       "      <td>Knowing what I know now, I would still choose ...</td>\n",
       "      <td>6</td>\n",
       "      <td>31%</td>\n",
       "      <td>50</td>\n",
       "    </tr>\n",
       "    <tr>\n",
       "      <th>2</th>\n",
       "      <td>I feel valued as an individual at this institu...</td>\n",
       "      <td>6</td>\n",
       "      <td>14%</td>\n",
       "      <td>22</td>\n",
       "    </tr>\n",
       "    <tr>\n",
       "      <th>3</th>\n",
       "      <td>I feel that I belong at this university</td>\n",
       "      <td>6</td>\n",
       "      <td>19%</td>\n",
       "      <td>31</td>\n",
       "    </tr>\n",
       "    <tr>\n",
       "      <th>4</th>\n",
       "      <td>Faculty are genuinely committed to promoting r...</td>\n",
       "      <td>6</td>\n",
       "      <td>27%</td>\n",
       "      <td>42</td>\n",
       "    </tr>\n",
       "  </tbody>\n",
       "</table>\n",
       "</div>"
      ],
      "text/plain": [
       "                                              Label1  Pivot Field Values  \\\n",
       "0  Top campus administrators are genuinely commit...                   6   \n",
       "1  Knowing what I know now, I would still choose ...                   6   \n",
       "2  I feel valued as an individual at this institu...                   6   \n",
       "3            I feel that I belong at this university                   6   \n",
       "4  Faculty are genuinely committed to promoting r...                   6   \n",
       "\n",
       "  Calculation1  Total  \n",
       "0          17%     27  \n",
       "1          31%     50  \n",
       "2          14%     22  \n",
       "3          19%     31  \n",
       "4          27%     42  "
      ]
     },
     "execution_count": 4,
     "metadata": {},
     "output_type": "execute_result"
    }
   ],
   "source": [
    "#read_data(\"Satis\", \"Arts\", 1)\n",
    "read_data_from_file_path(\"/Users/emilylopez/Desktop/data_mural/data_mural_proj\",\"Satisfaction-1\", \"Satis\", \"Arts\", 1).head()"
   ]
  },
  {
   "cell_type": "code",
   "execution_count": 5,
   "id": "d9697fcb",
   "metadata": {},
   "outputs": [],
   "source": [
    "# example for how to use the function to open datasets for different disciplines for the same section\n",
    "disciplines = [\"Arts\", \"Hum\", \"Life\", \"Eng\", \"Health\", \"Phys\", \"Prof\", \"Social\", \"Undec\"]\n",
    "dataset = 1\n",
    "survey_section = \"Satis\"\n",
    "file_path = \"/Users/emilylopez/Desktop/data_mural/data_mural_proj\"\n",
    "UCUES_dataset = \"Satisfaction-1\"\n",
    "\n",
    "array_dfs = []\n",
    "for discipline in disciplines:\n",
    "    df = read_data_from_file_path(file_path, UCUES_dataset, survey_section, discipline, dataset)\n",
    "    df[discipline] = [discipline for i in range(len(df))]\n",
    "    array_dfs.append(df)"
   ]
  },
  {
   "cell_type": "code",
   "execution_count": null,
   "id": "ab21e5ce",
   "metadata": {},
   "outputs": [],
   "source": []
  }
 ],
 "metadata": {
  "kernelspec": {
   "display_name": "Python 3 (ipykernel)",
   "language": "python",
   "name": "python3"
  },
  "language_info": {
   "codemirror_mode": {
    "name": "ipython",
    "version": 3
   },
   "file_extension": ".py",
   "mimetype": "text/x-python",
   "name": "python",
   "nbconvert_exporter": "python",
   "pygments_lexer": "ipython3",
   "version": "3.9.7"
  }
 },
 "nbformat": 4,
 "nbformat_minor": 5
}
